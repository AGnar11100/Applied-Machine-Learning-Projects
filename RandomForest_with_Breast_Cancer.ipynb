{
  "nbformat": 4,
  "nbformat_minor": 0,
  "metadata": {
    "colab": {
      "name": "RandomForest with Breast Cancer",
      "provenance": [],
      "collapsed_sections": []
    },
    "kernelspec": {
      "name": "python3",
      "display_name": "Python 3"
    },
    "accelerator": "GPU"
  },
  "cells": [
    {
      "cell_type": "code",
      "metadata": {
        "id": "EwCiemK3C1P4"
      },
      "source": [
        "# imports needed\r\n",
        "%matplotlib inline\r\n",
        "\r\n",
        "import time\r\n",
        "import random\r\n",
        "import numpy as np\r\n",
        "import pandas as pd\r\n",
        "import seaborn as sns\r\n",
        "import matplotlib.pyplot as plt\r\n",
        "from sklearn.metrics import roc_curve, auc\r\n",
        "from sklearn.metrics import confusion_matrix\r\n",
        "from sklearn.metrics import classification_report\r\n",
        "from sklearn.model_selection import KFold, cross_val_score\r\n",
        "from sklearn.model_selection import train_test_split, GridSearchCV\r\n",
        "from sklearn.ensemble import RandomForestClassifier \r\n",
        "from urllib.request import urlopen \r\n",
        "\r\n",
        "plt.style.use('ggplot')\r\n",
        "pd.set_option('display.max_columns', 500) \r\n",
        "\r\n",
        "# Get Wisconsin Breast Cancer Data\r\n",
        "breast_cancer = pd.read_csv('Wisconsin-bc-data.csv')\r\n",
        "\r\n",
        "names = ['id', 'diagnosis', 'radius_mean', \r\n",
        "         'texture_mean', 'perimeter_mean', 'area_mean', \r\n",
        "         'smoothness_mean', 'compactness_mean', \r\n",
        "         'concavity_mean','concave_points_mean', \r\n",
        "         'symmetry_mean', 'fractal_dimension_mean',\r\n",
        "         'radius_se', 'texture_se', 'perimeter_se', \r\n",
        "         'area_se', 'smoothness_se', 'compactness_se', \r\n",
        "         'concavity_se', 'concave_points_se', \r\n",
        "         'symmetry_se', 'fractal_dimension_se', \r\n",
        "         'radius_worst', 'texture_worst', \r\n",
        "         'perimeter_worst', 'area_worst', \r\n",
        "         'smoothness_worst', 'compactness_worst', \r\n",
        "         'concavity_worst', 'concave_points_worst', \r\n",
        "         'symmetry_worst', 'fractal_dimension_worst'] \r\n",
        "\r\n",
        "dx = ['Benign', 'Malignant']\r\n",
        "breast_cancer.head()"
      ],
      "execution_count": null,
      "outputs": []
    },
    {
      "cell_type": "code",
      "metadata": {
        "id": "_vfzsy7UE0Rt"
      },
      "source": [
        "# Setting 'id_number' as our index\r\n",
        "breast_cancer.set_index(['id'], inplace = True) \r\n",
        "\r\n",
        "# Converted to binary to help later on with models and plots\r\n",
        "breast_cancer['diagnosis'] = breast_cancer['diagnosis'].map({'M':1, 'B':0})\r\n",
        "\r\n",
        "# check mapping worked \r\n",
        "mapping = breast_cancer[['diagnosis']]\r\n",
        "mapping"
      ],
      "execution_count": null,
      "outputs": []
    },
    {
      "cell_type": "code",
      "metadata": {
        "id": "8TpfZli3F-XU"
      },
      "source": [
        "# check check number of null values in each field\r\n",
        "breast_cancer.apply(lambda x: x.isnull().sum())\r\n",
        "\r\n",
        "# drop the field we dont need\r\n",
        "breast_cancer = breast_cancer.drop(columns=['Unnamed: 32'])\r\n",
        "\r\n",
        "# double check the field is gone\r\n",
        "breast_cancer.apply(lambda x: x.isnull().sum())"
      ],
      "execution_count": null,
      "outputs": []
    },
    {
      "cell_type": "code",
      "metadata": {
        "id": "5DLwgG_-HO1o"
      },
      "source": [
        "# some infomation about the data, could also do this with breast_cancer.info()\r\n",
        "print(\"Shape of our dataframe:\\n\", \r\n",
        "     breast_cancer.shape)\r\n",
        "print(\"data types of our columns:\\n\",\r\n",
        "     breast_cancer.dtypes)"
      ],
      "execution_count": null,
      "outputs": []
    },
    {
      "cell_type": "code",
      "metadata": {
        "id": "GoQT1V_VHei0",
        "colab": {
          "base_uri": "https://localhost:8080/"
        },
        "outputId": "1e72d0f5-59c8-493c-83f1-5a6202b2c738"
      },
      "source": [
        "# check if dataset is suffers imbalance between classes Benign = 0 and Malignant = 1\r\n",
        "s = pd.value_counts(breast_cancer.diagnosis)\r\n",
        "\r\n",
        "# for class 0\r\n",
        "num_of_benign = s[0]\r\n",
        "# for class 1\r\n",
        "num_of_malignant = s[1]\r\n",
        "\r\n",
        "total_cases = len(breast_cancer)\r\n",
        "\r\n",
        "# calculate percentages of data that resides in both classes\r\n",
        "percent_b = num_of_benign / total_cases\r\n",
        "percent_m = num_of_malignant / total_cases\r\n",
        "\r\n",
        "print(\"Distribution between Benign and Malignant\\nPercent Benign: {0:.3f} \\nPercent Malignant: {1:.3f} \".format(percent_b, percent_m))"
      ],
      "execution_count": null,
      "outputs": [
        {
          "output_type": "stream",
          "text": [
            "Distribution between Benign and Malignant\n",
            "Percent Benign: 0.627 \n",
            "Percent Malignant: 0.373 \n"
          ],
          "name": "stdout"
        }
      ]
    },
    {
      "cell_type": "markdown",
      "metadata": {
        "id": "hX8xKdtVfHv3"
      },
      "source": [
        "No class imbalance here so we can proceed."
      ]
    },
    {
      "cell_type": "code",
      "metadata": {
        "id": "kMDGdQI6NlQ6"
      },
      "source": [
        "# create dataset\r\n",
        "feature_space = breast_cancer.iloc[:, breast_cancer.columns != 'diagnosis']\r\n",
        "feature_class = breast_cancer.iloc[:, breast_cancer.columns == 'diagnosis']\r\n",
        "\r\n",
        "# train_test_split\r\n",
        "training_set, test_set, class_set, test_class_set = train_test_split(feature_space,\r\n",
        "                                                                    feature_class,\r\n",
        "                                                                    test_size = 0.20, \r\n",
        "                                                                    random_state = 42)\r\n",
        "# Cleaning test sets to avoid future warning messages\r\n",
        "class_set = class_set.values.ravel() \r\n",
        "test_class_set = test_class_set.values.ravel()"
      ],
      "execution_count": null,
      "outputs": []
    },
    {
      "cell_type": "code",
      "metadata": {
        "id": "s-6wvJKoPok7"
      },
      "source": [
        "# instantiate classifier \r\n",
        "rf_classifier = RandomForestClassifier(random_state=42, n_estimators=10)"
      ],
      "execution_count": null,
      "outputs": []
    },
    {
      "cell_type": "code",
      "metadata": {
        "id": "TmunnEM3Py5b",
        "colab": {
          "base_uri": "https://localhost:8080/"
        },
        "outputId": "9bf33a77-1ac0-4b3d-9900-be28837086f6"
      },
      "source": [
        "np.random.seed(42)\r\n",
        "start = time.time()\r\n",
        "\r\n",
        "# give to GridSearchCV\r\n",
        "param_dist = {'max_depth': [2, 3, 4],\r\n",
        "              'bootstrap': [True, False],\r\n",
        "              'max_features': ['auto', 'sqrt', 'log2', None],\r\n",
        "              'criterion': ['gini', 'entropy']}\r\n",
        "\r\n",
        "# set up the GridSearch\r\n",
        "cv_rf = GridSearchCV(rf_classifier, cv = 5,\r\n",
        "                     param_grid=param_dist, \r\n",
        "                     n_jobs = 3)\r\n",
        "\r\n",
        "# fit the GridSearch\r\n",
        "cv_rf.fit(training_set, class_set)\r\n",
        "print('Best Parameters using grid search: \\n', cv_rf.best_params_)\r\n",
        "\r\n",
        "\r\n",
        "end = time.time()\r\n",
        "print('Time taken in grid search: {0: .2f}'.format(end - start))"
      ],
      "execution_count": null,
      "outputs": [
        {
          "output_type": "stream",
          "text": [
            "Best Parameters using grid search: \n",
            " {'bootstrap': True, 'criterion': 'entropy', 'max_depth': 4, 'max_features': None}\n",
            "Time taken in grid search:  6.31\n"
          ],
          "name": "stdout"
        }
      ]
    },
    {
      "cell_type": "code",
      "metadata": {
        "id": "62ELn6buQo3t",
        "colab": {
          "base_uri": "https://localhost:8080/"
        },
        "outputId": "c8ed167b-9785-45a3-aaed-4ce28abefa0a"
      },
      "source": [
        "# Set best parameters given by grid search \r\n",
        "rf_classifier.set_params(criterion = 'gini',\r\n",
        "                  max_features = 'log2', \r\n",
        "                  max_depth = 3, \r\n",
        "                  )"
      ],
      "execution_count": null,
      "outputs": [
        {
          "output_type": "execute_result",
          "data": {
            "text/plain": [
              "RandomForestClassifier(bootstrap=True, ccp_alpha=0.0, class_weight=None,\n",
              "                       criterion='gini', max_depth=3, max_features='log2',\n",
              "                       max_leaf_nodes=None, max_samples=None,\n",
              "                       min_impurity_decrease=0.0, min_impurity_split=None,\n",
              "                       min_samples_leaf=1, min_samples_split=2,\n",
              "                       min_weight_fraction_leaf=0.0, n_estimators=10,\n",
              "                       n_jobs=None, oob_score=False, random_state=42, verbose=0,\n",
              "                       warm_start=False)"
            ]
          },
          "metadata": {
            "tags": []
          },
          "execution_count": 9
        }
      ]
    },
    {
      "cell_type": "code",
      "metadata": {
        "id": "dHkQx6hfRMgu"
      },
      "source": [
        "# warm_start = True reuse the solution of the previous call to fit \r\n",
        "# and add more estimators to the ensemble, otherwise, just fit a whole new forest.\r\n",
        "\r\n",
        "rf_classifier.set_params(warm_start=True, \r\n",
        "                  oob_score=True)\r\n",
        "\r\n",
        "# found this from sci-kit learn https://scikit-learn.org/stable/auto_examples/ensemble/plot_ensemble_oob.html\r\n",
        "min_estimators = 15\r\n",
        "max_estimators = 1000\r\n",
        "\r\n",
        "error_rate = {}\r\n",
        "\r\n",
        "for i in range(min_estimators, max_estimators + 1):\r\n",
        "    rf_classifier.set_params(n_estimators=i)\r\n",
        "    rf_classifier.fit(training_set, class_set)\r\n",
        "\r\n",
        "    oob_error = 1 - rf_classifier.oob_score_\r\n",
        "    error_rate[i] = oob_error"
      ],
      "execution_count": null,
      "outputs": []
    },
    {
      "cell_type": "code",
      "metadata": {
        "id": "XpTTuMDhRa79"
      },
      "source": [
        "# Convert dictionary to a pandas series for easy plotting \r\n",
        "oob_series = pd.Series(error_rate)"
      ],
      "execution_count": null,
      "outputs": []
    },
    {
      "cell_type": "code",
      "metadata": {
        "id": "i_JIhDcOReVl",
        "colab": {
          "base_uri": "https://localhost:8080/",
          "height": 659
        },
        "outputId": "e4bd2d2d-9180-4113-a0e8-10fdf4149dfd"
      },
      "source": [
        "# Plotting the OOB_scores line graph: oob_error vs. n_estimators\r\n",
        "fig, ax = plt.subplots(figsize=(10, 10))\r\n",
        "\r\n",
        "ax.set_facecolor('#fafafa')\r\n",
        "\r\n",
        "oob_series.plot(kind='line',\r\n",
        "                color = 'blue')\r\n",
        "plt.axhline(0.055, \r\n",
        "            color='#875FDB',\r\n",
        "           linestyle='--')\r\n",
        "plt.axhline(0.05, \r\n",
        "            color='#875FDB',\r\n",
        "           linestyle='--')\r\n",
        "plt.xlabel('n_estimators')\r\n",
        "plt.ylabel('OOB Error Rate')\r\n",
        "plt.title('OOB Error Rate Across various Forest sizes \\n(From 15 to 1000 trees)')"
      ],
      "execution_count": null,
      "outputs": [
        {
          "output_type": "execute_result",
          "data": {
            "text/plain": [
              "Text(0.5, 1.0, 'OOB Error Rate Across various Forest sizes \\n(From 15 to 1000 trees)')"
            ]
          },
          "metadata": {
            "tags": []
          },
          "execution_count": 12
        },
        {
          "output_type": "display_data",
          "data": {
            "image/png": "[encoded data removed]",
            "text/plain": [
              "<Figure size 720x720 with 1 Axes>"
            ]
          },
          "metadata": {
            "tags": [],
            "needs_background": "light"
          }
        }
      ]
    },
    {
      "cell_type": "markdown",
      "metadata": {
        "id": "pq0yqAOpKVEe"
      },
      "source": [
        "I ended up testing and choosing values 400-430 for the number of estimators"
      ]
    },
    {
      "cell_type": "code",
      "metadata": {
        "id": "dpsZUHdha4DD",
        "colab": {
          "base_uri": "https://localhost:8080/"
        },
        "outputId": "8c53a905-27f3-4697-86d8-4db26c3c0173"
      },
      "source": [
        "# set the estimators so we can proceed to fitting the rf_classifier turning warm start and oob_score to False\r\n",
        "rf_classifier.set_params(n_estimators=420,\r\n",
        "                  bootstrap = True,\r\n",
        "                  warm_start=False, \r\n",
        "                  oob_score=False)"
      ],
      "execution_count": null,
      "outputs": [
        {
          "output_type": "execute_result",
          "data": {
            "text/plain": [
              "RandomForestClassifier(bootstrap=True, ccp_alpha=0.0, class_weight=None,\n",
              "                       criterion='gini', max_depth=3, max_features='log2',\n",
              "                       max_leaf_nodes=None, max_samples=None,\n",
              "                       min_impurity_decrease=0.0, min_impurity_split=None,\n",
              "                       min_samples_leaf=1, min_samples_split=2,\n",
              "                       min_weight_fraction_leaf=0.0, n_estimators=420,\n",
              "                       n_jobs=None, oob_score=False, random_state=42, verbose=0,\n",
              "                       warm_start=False)"
            ]
          },
          "metadata": {
            "tags": []
          },
          "execution_count": 13
        }
      ]
    },
    {
      "cell_type": "code",
      "metadata": {
        "id": "XB-IqgWebAEW",
        "colab": {
          "base_uri": "https://localhost:8080/"
        },
        "outputId": "5ea36d1f-170b-4d61-bd97-a6f5252e3ebd"
      },
      "source": [
        "# fit the Random forest to the training data\r\n",
        "rf_classifier.fit(training_set, class_set)"
      ],
      "execution_count": null,
      "outputs": [
        {
          "output_type": "execute_result",
          "data": {
            "text/plain": [
              "RandomForestClassifier(bootstrap=True, ccp_alpha=0.0, class_weight=None,\n",
              "                       criterion='gini', max_depth=3, max_features='log2',\n",
              "                       max_leaf_nodes=None, max_samples=None,\n",
              "                       min_impurity_decrease=0.0, min_impurity_split=None,\n",
              "                       min_samples_leaf=1, min_samples_split=2,\n",
              "                       min_weight_fraction_leaf=0.0, n_estimators=420,\n",
              "                       n_jobs=None, oob_score=False, random_state=42, verbose=0,\n",
              "                       warm_start=False)"
            ]
          },
          "metadata": {
            "tags": []
          },
          "execution_count": 14
        }
      ]
    },
    {
      "cell_type": "code",
      "metadata": {
        "id": "-PZpFRHxLAmL"
      },
      "source": [
        "# returns a dict with value pairs {importance: indices} for printing\r\n",
        "def variable_importance(fit):\r\n",
        "    try:\r\n",
        "        # Checks whether first parameter is a model\r\n",
        "        if not hasattr(fit, 'fit'):\r\n",
        "            return print(\"'{0}' is not an instantiated model from scikit-learn\".format(fit)) \r\n",
        "\r\n",
        "        # Checks whether model has been trained\r\n",
        "        if not vars(fit)[\"estimators_\"]:\r\n",
        "            return print(\"Model does not appear to be trained.\")\r\n",
        "    except KeyError:\r\n",
        "        print(\"Model entered does not contain 'estimators_' attribute.\")\r\n",
        "\r\n",
        "    importances = fit.feature_importances_\r\n",
        "    # sort from most import to least\r\n",
        "    indices = np.argsort(importances)[::-1]\r\n",
        "    return {'importance': importances,\r\n",
        "            'index': indices}"
      ],
      "execution_count": null,
      "outputs": []
    },
    {
      "cell_type": "code",
      "metadata": {
        "id": "B04ITui5MQ-O"
      },
      "source": [
        "# get variable importance and their indexes\r\n",
        "rf_var_imp = variable_importance(rf_classifier)\r\n",
        "\r\n",
        "rf_importances = rf_var_imp['importance']\r\n",
        "\r\n",
        "rf_indices = rf_var_imp['index']"
      ],
      "execution_count": null,
      "outputs": []
    },
    {
      "cell_type": "code",
      "metadata": {
        "id": "ijNTdbepMUNs"
      },
      "source": [
        "# unpacks and prints values in importance dict according to the index \r\n",
        "def print_var_importance(importance, indices, name_index):\r\n",
        "    print(\"Feature ranking:\")\r\n",
        "    # iterate thru variable indices\r\n",
        "    for f in range(0, indices.shape[0]):\r\n",
        "        i = f\r\n",
        "        # prints the name of the feature and its importance metric \r\n",
        "        print(\"{0}. The feature '{1}' has a Mean Decrease in Impurity of {2:.5f}\"\r\n",
        "              .format(f + 1, names_index[indices[i]], importance[indices[f]]))"
      ],
      "execution_count": null,
      "outputs": []
    },
    {
      "cell_type": "code",
      "metadata": {
        "id": "dYg-zYk1M2jW",
        "colab": {
          "base_uri": "https://localhost:8080/"
        },
        "outputId": "33bee6fc-60d9-4d41-fbaa-25a802648e3a"
      },
      "source": [
        "# get the classes uses to train this model\r\n",
        "names_index = names[2:]\r\n",
        "\r\n",
        "# print out classes by importance in decending order\r\n",
        "print_var_importance(rf_importances, rf_indices, names_index)"
      ],
      "execution_count": null,
      "outputs": [
        {
          "output_type": "stream",
          "text": [
            "Feature ranking:\n",
            "1. The feature 'area_worst' has a Mean Decrease in Impurity of 0.12769\n",
            "2. The feature 'concave_points_worst' has a Mean Decrease in Impurity of 0.12202\n",
            "3. The feature 'perimeter_worst' has a Mean Decrease in Impurity of 0.12197\n",
            "4. The feature 'concave_points_mean' has a Mean Decrease in Impurity of 0.09623\n",
            "5. The feature 'radius_worst' has a Mean Decrease in Impurity of 0.07696\n",
            "6. The feature 'concavity_mean' has a Mean Decrease in Impurity of 0.06092\n",
            "7. The feature 'area_mean' has a Mean Decrease in Impurity of 0.05814\n",
            "8. The feature 'radius_mean' has a Mean Decrease in Impurity of 0.05507\n",
            "9. The feature 'perimeter_mean' has a Mean Decrease in Impurity of 0.05026\n",
            "10. The feature 'area_se' has a Mean Decrease in Impurity of 0.04166\n",
            "11. The feature 'concavity_worst' has a Mean Decrease in Impurity of 0.03920\n",
            "12. The feature 'compactness_worst' has a Mean Decrease in Impurity of 0.02092\n",
            "13. The feature 'texture_worst' has a Mean Decrease in Impurity of 0.01663\n",
            "14. The feature 'compactness_mean' has a Mean Decrease in Impurity of 0.01543\n",
            "15. The feature 'radius_se' has a Mean Decrease in Impurity of 0.01536\n",
            "16. The feature 'perimeter_se' has a Mean Decrease in Impurity of 0.01257\n",
            "17. The feature 'symmetry_worst' has a Mean Decrease in Impurity of 0.01209\n",
            "18. The feature 'texture_mean' has a Mean Decrease in Impurity of 0.01185\n",
            "19. The feature 'smoothness_worst' has a Mean Decrease in Impurity of 0.01009\n",
            "20. The feature 'concavity_se' has a Mean Decrease in Impurity of 0.00898\n",
            "21. The feature 'concave_points_se' has a Mean Decrease in Impurity of 0.00427\n",
            "22. The feature 'smoothness_mean' has a Mean Decrease in Impurity of 0.00396\n",
            "23. The feature 'fractal_dimension_se' has a Mean Decrease in Impurity of 0.00392\n",
            "24. The feature 'fractal_dimension_worst' has a Mean Decrease in Impurity of 0.00270\n",
            "25. The feature 'fractal_dimension_mean' has a Mean Decrease in Impurity of 0.00224\n",
            "26. The feature 'smoothness_se' has a Mean Decrease in Impurity of 0.00210\n",
            "27. The feature 'symmetry_mean' has a Mean Decrease in Impurity of 0.00201\n",
            "28. The feature 'texture_se' has a Mean Decrease in Impurity of 0.00197\n",
            "29. The feature 'symmetry_se' has a Mean Decrease in Impurity of 0.00184\n",
            "30. The feature 'compactness_se' has a Mean Decrease in Impurity of 0.00094\n"
          ],
          "name": "stdout"
        }
      ]
    },
    {
      "cell_type": "code",
      "metadata": {
        "id": "ylVQE5kxNHUK"
      },
      "source": [
        "# Make a horizontal bar chart to visualize feature importantance\r\n",
        "\r\n",
        "def variable_importance_plot(importance, indices, name_index):\r\n",
        "    index = np.arange(len(names_index))\r\n",
        "\r\n",
        "    importance_desc = sorted(importance)\r\n",
        "\r\n",
        "    feature_space = []\r\n",
        "\r\n",
        "    for i in range(indices.shape[0] - 1, -1, -1):\r\n",
        "        feature_space.append(names_index[indices[i]])\r\n",
        "\r\n",
        "    fig, ax = plt.subplots(figsize=(10, 10))\r\n",
        "\r\n",
        "    plt.title('Feature importances for Random Forest Model\\\\nBreast Cancer (Diagnostic)')\r\n",
        "    \r\n",
        "    plt.barh(index,\r\n",
        "              importance_desc,\r\n",
        "              align=\"center\",\r\n",
        "              color = '#FFB6C1')\r\n",
        "    plt.yticks(index,\r\n",
        "                feature_space)\r\n",
        "\r\n",
        "    plt.ylim(-1, 30)\r\n",
        "    plt.xlim(0, max(importance_desc) + 0.01)\r\n",
        "    plt.xlabel('Mean Decrease in Impurity')\r\n",
        "    plt.ylabel('Feature')\r\n",
        "\r\n",
        "    plt.show()\r\n",
        "    plt.close()"
      ],
      "execution_count": null,
      "outputs": []
    },
    {
      "cell_type": "code",
      "metadata": {
        "id": "xVyZxILMNT8S",
        "colab": {
          "base_uri": "https://localhost:8080/",
          "height": 626
        },
        "outputId": "e055037d-6b03-47d9-eb52-520eac27d438"
      },
      "source": [
        "variable_importance_plot(rf_importances, rf_indices, names_index)"
      ],
      "execution_count": null,
      "outputs": [
        {
          "output_type": "display_data",
          "data": {
            "image/png": "[encoded data removed]",
            "text/plain": [
              "<Figure size 720x720 with 1 Axes>"
            ]
          },
          "metadata": {
            "tags": [],
            "needs_background": "light"
          }
        }
      ]
    },
    {
      "cell_type": "code",
      "metadata": {
        "id": "8x1SSOHBQ-Nz"
      },
      "source": [
        "# Perform Cross_validation to see how robust our model is \r\n",
        "import time\r\n",
        "\r\n",
        "def cross_val_metrics(fit, training_set, class_set, estimator, print_results = True):\r\n",
        "    start = time.time()\r\n",
        "    \"\"\"\r\n",
        "    Returns Mean Accurancy with standard_dev of model over Kfolds Validation\r\n",
        "    ----------\r\n",
        "    scores.mean(): Float representing cross validation score\r\n",
        "    scores.std() / 2: Float representing the standard error (derived\r\n",
        "                from cross validation score's standard deviation)\r\n",
        "    \"\"\"\r\n",
        "    my_estimators = {\r\n",
        "    'rf': 'estimators_',\r\n",
        "    'nn': 'out_activation_',\r\n",
        "    'knn': '_fit_method'\r\n",
        "    }\r\n",
        "    try:\r\n",
        "        # Checks whether first parameter is a model\r\n",
        "        if not hasattr(fit, 'fit'):\r\n",
        "            return print(\"'{0}' is not an instantiated model from scikit-learn\".format(fit)) \r\n",
        "\r\n",
        "        # Checks whether the model has been trained\r\n",
        "        if not vars(fit)[my_estimators[estimator]]:\r\n",
        "            return print(\"Model does not appear to be trained.\")\r\n",
        "\r\n",
        "    except KeyError as e:\r\n",
        "        print(\"'{0}' does not correspond with the appropriate key inside the estimators dictionary. \\\r\n",
        "              \\nPlease refer to function to check `my_estimators` dictionary.\".format(estimator))\r\n",
        "        raise\r\n",
        "\r\n",
        "    # create KFolds validation\r\n",
        "    n = KFold(n_splits=10)\r\n",
        "\r\n",
        "    # record score for each split\r\n",
        "    scores = cross_val_score(fit, \r\n",
        "                         training_set, \r\n",
        "                         class_set, \r\n",
        "                         cv = n)\r\n",
        "    end = time.time() \r\n",
        "    # print how much time the Kfolds took\r\n",
        "    print(\"Time elapsed to do Cross Validation: {0:.2f} seconds.\".format(end-start))\r\n",
        "    if print_results:\r\n",
        "        for i in range(0, len(scores)):\r\n",
        "            # print out the scores for each validation split\r\n",
        "            print(\"Cross validation run {0}: {1: 0.3f}\".format(i, scores[i]))\r\n",
        "\r\n",
        "        print(\"Accuracy: {0: 0.3f} (+/- {1: 0.3f})\".format(scores.mean(), scores.std() / 2))     \r\n",
        "    else:\r\n",
        "        return scores.mean(), scores.std() / 2"
      ],
      "execution_count": null,
      "outputs": []
    },
    {
      "cell_type": "code",
      "metadata": {
        "id": "yXBuoBGYRqb3"
      },
      "source": [
        "# call cross_val_metrics to see how our model did\r\n",
        "cross_val_metrics(rf_classifier, \r\n",
        "                  training_set, \r\n",
        "                  class_set, \r\n",
        "                  'rf',\r\n",
        "                  print_results = True)"
      ],
      "execution_count": null,
      "outputs": []
    },
    {
      "cell_type": "code",
      "metadata": {
        "id": "jdbXWI_nR5JX"
      },
      "source": [
        "# make a prediction on test set now that the model has been tuned and validated\r\n",
        "rf_predictions = rf_classifier.predict(test_set)"
      ],
      "execution_count": null,
      "outputs": []
    },
    {
      "cell_type": "code",
      "metadata": {
        "id": "cy09Mj_oR6DO"
      },
      "source": [
        "\r\n",
        "def create_conf_mat(test_class_set, predictions):\r\n",
        "    \"\"\"Function returns confusion matrix comparing two arrays\"\"\"\r\n",
        "    if (len(test_class_set.shape) != len(predictions.shape) == 1):\r\n",
        "        return print('Arrays entered are not 1-D.\\nPlease enter the correctly sized sets.')\r\n",
        "    elif (test_class_set.shape != predictions.shape):\r\n",
        "        return print('Number of values inside the Arrays are not equal to each other.\\nPlease make sure the array has the same number of instances.')\r\n",
        "    else:\r\n",
        "        # Set Metrics; Compute a simple cross tabulation of two (or more) factors. \r\n",
        "        # By default computes a frequency table of the factors unless an array of values and an aggregation function are passed.\r\n",
        "        test_crosstb_comp = pd.crosstab(index = test_class_set,\r\n",
        "                                        columns = predictions)\r\n",
        "        # Changed for Future deprecation of as_matrix\r\n",
        "        test_crosstb = test_crosstb_comp.values\r\n",
        "        return test_crosstb"
      ],
      "execution_count": null,
      "outputs": []
    },
    {
      "cell_type": "code",
      "metadata": {
        "id": "YlAl2XUMR-9J",
        "colab": {
          "base_uri": "https://localhost:8080/",
          "height": 299
        },
        "outputId": "5fc50522-d7b4-41e4-8150-14fa4e2dcdff"
      },
      "source": [
        "conf_mat = create_conf_mat(test_class_set, rf_predictions)\r\n",
        "\r\n",
        "# use seaborn heatmap\r\n",
        "sns.heatmap(conf_mat, annot=True, fmt='d', cbar=False)\r\n",
        "plt.xlabel('Predicted Values')\r\n",
        "plt.ylabel('Actual Values')\r\n",
        "plt.title('Actual vs. Predicted Confusion Matrix')\r\n",
        "plt.show()"
      ],
      "execution_count": null,
      "outputs": [
        {
          "output_type": "display_data",
          "data": {
            "image/png": "[encoded data removed]",
            "text/plain": [
              "<Figure size 432x288 with 1 Axes>"
            ]
          },
          "metadata": {
            "tags": [],
            "needs_background": "light"
          }
        }
      ]
    },
    {
      "cell_type": "code",
      "metadata": {
        "id": "y4w6DRkRSBLD",
        "colab": {
          "base_uri": "https://localhost:8080/"
        },
        "outputId": "cc5412e4-aeeb-446b-c72e-28db1388d939"
      },
      "source": [
        "# use built in score function to get accurancy of this model against the test set\r\n",
        "rf_accuracy = rf_classifier.score(test_set, test_class_set)\r\n",
        "\r\n",
        "print(\"Here is our mean accuracy on the test set:\\n {0:.3f}\"\\\r\n",
        "      .format(rf_accuracy))"
      ],
      "execution_count": null,
      "outputs": [
        {
          "output_type": "stream",
          "text": [
            "Here is our mean accuracy on the test set:\n",
            " 0.965\n"
          ],
          "name": "stdout"
        }
      ]
    },
    {
      "cell_type": "code",
      "metadata": {
        "id": "Ko9YMosrSDge"
      },
      "source": [
        "# Here we calculate the test error rate!\r\n",
        "rf_test_error_rate = 1 - rf_accuracy\r\n",
        "print(\"The test error rate for our model is:\\n {0: .4f}\"\\\r\n",
        "      .format(rf_test_error_rate))"
      ],
      "execution_count": null,
      "outputs": []
    },
    {
      "cell_type": "markdown",
      "metadata": {
        "id": "42rZDsv73lb1"
      },
      "source": [
        "Set up for ROC (receiver operating characteristic) curve which calculates the false positive rates and true positive rates across different thresholds.\r\n",
        "\r\n",
        "An ideal model will have a false positive rate of 0 and true positive rate of 1. Most the curve will be in the top left corner of the graph.\r\n",
        "\r\n",
        "On the other hand, a ROC curve that is at 45 degrees is indicative of a model that is essentially randomly guessing. Most of the curve will be in the middle of the graph."
      ]
    },
    {
      "cell_type": "code",
      "metadata": {
        "id": "EPGPhhCcAYn0",
        "colab": {
          "base_uri": "https://localhost:8080/"
        },
        "outputId": "efb4c8d7-93b0-4493-a2ef-6452c91914a6"
      },
      "source": [
        "# predict_proba returns two arrays that represent the predicted_prob of negative class and positive class respectively.\r\n",
        "\r\n",
        "# I just want to take the positive classes in this instance\r\n",
        "predictions_prob = rf_classifier.predict_proba(test_set)[:, 1]\r\n",
        "\r\n",
        "# use roc_curve to produce \r\n",
        "fpr2, tpr2, _ = roc_curve(test_class_set,\r\n",
        "                          predictions_prob,\r\n",
        "                          pos_label = 1)\r\n",
        "\r\n",
        "auc_rf = auc(fpr2, tpr2)\r\n",
        "\r\n",
        "print(auc_rf)"
      ],
      "execution_count": null,
      "outputs": [
        {
          "output_type": "stream",
          "text": [
            "0.9963969865705863\n"
          ],
          "name": "stdout"
        }
      ]
    },
    {
      "cell_type": "code",
      "metadata": {
        "id": "tjMIvl6hAbs1"
      },
      "source": [
        "def plot_roc_curve(fpr, tpr, auc, estimator, xlim=None, ylim=None):\r\n",
        "    \"\"\"\r\n",
        "    Purpose\r\n",
        "    ----------\r\n",
        "    Function creates ROC Curve for respective model given selected parameters.\r\n",
        "    Optional x and y limits to zoom into graph\r\n",
        "\r\n",
        "    Parameters\r\n",
        "    ----------\r\n",
        "    * fpr: Array returned from sklearn.metrics.roc_curve for increasing\r\n",
        "            false positive rates\r\n",
        "    * tpr: Array returned from sklearn.metrics.roc_curve for increasing\r\n",
        "            true positive rates\r\n",
        "    * auc: Float returned from sklearn.metrics.auc (Area under Curve)\r\n",
        "    * estimator: String represenation of appropriate model, can only contain the\r\n",
        "    following: ['knn', 'rf', 'nn']\r\n",
        "    * xlim: Set upper and lower x-limits\r\n",
        "    * ylim: Set upper and lower y-limits\r\n",
        "    \"\"\"\r\n",
        "    my_estimators = {'knn': ['Kth Nearest Neighbor', 'deeppink'],\r\n",
        "              'rf': ['Random Forest', 'red'],\r\n",
        "              'nn': ['Neural Network', 'purple']}\r\n",
        "\r\n",
        "    try:\r\n",
        "        plot_title = my_estimators[estimator][0]\r\n",
        "        color_value = my_estimators[estimator][1]\r\n",
        "    except KeyError as e:\r\n",
        "        print(\"'{0}' does not correspond with the appropriate key inside the estimators dictionary. \\\r\n",
        "\\nPlease refer to function to check `my_estimators` dictionary.\".format(estimator))\r\n",
        "        raise\r\n",
        "\r\n",
        "    fig, ax = plt.subplots(figsize=(10, 10))\r\n",
        "    ax.set_facecolor('#fafafa')\r\n",
        "\r\n",
        "    plt.plot(fpr, tpr,\r\n",
        "             color=color_value,\r\n",
        "             linewidth=1)\r\n",
        "    plt.title('ROC Curve For {0} (AUC = {1: 0.3f})'\\\r\n",
        "              .format(plot_title, auc))\r\n",
        "\r\n",
        "    plt.plot([0, 1], [0, 1], 'k--', lw=2) # Add Diagonal line\r\n",
        "    plt.plot([0, 0], [1, 0], 'k--', lw=2, color = 'black')\r\n",
        "    plt.plot([1, 0], [1, 1], 'k--', lw=2, color = 'black')\r\n",
        "    if xlim is not None:\r\n",
        "        plt.xlim(*xlim)\r\n",
        "    if ylim is not None:\r\n",
        "        plt.ylim(*ylim)\r\n",
        "    plt.xlabel('False Positive Rate')\r\n",
        "    plt.ylabel('True Positive Rate')\r\n",
        "    plt.show()\r\n",
        "    plt.close()"
      ],
      "execution_count": null,
      "outputs": []
    },
    {
      "cell_type": "code",
      "metadata": {
        "id": "UghllWyhAhWi",
        "colab": {
          "base_uri": "https://localhost:8080/",
          "height": 626
        },
        "outputId": "fdd3f60a-e331-4d19-f906-077c33fc0f83"
      },
      "source": [
        "plot_roc_curve(fpr2, tpr2, auc_rf, 'rf',\r\n",
        "               xlim=(-0.01, 1.05), \r\n",
        "               ylim=(0.001, 1.05))"
      ],
      "execution_count": null,
      "outputs": [
        {
          "output_type": "display_data",
          "data": {
            "image/png": "[encoded data removed]",
            "text/plain": [
              "<Figure size 720x720 with 1 Axes>"
            ]
          },
          "metadata": {
            "tags": [],
            "needs_background": "light"
          }
        }
      ]
    },
    {
      "cell_type": "code",
      "metadata": {
        "id": "BN9SqvPKAjOp",
        "colab": {
          "base_uri": "https://localhost:8080/",
          "height": 626
        },
        "outputId": "e81b8fe7-6b76-482c-ed1a-c616206c7a86"
      },
      "source": [
        "# zoom in\r\n",
        "plot_roc_curve(fpr2, tpr2, auc_rf, 'rf', \r\n",
        "               xlim=(-0.01, 0.2), \r\n",
        "               ylim=(0.85, 1.01))"
      ],
      "execution_count": null,
      "outputs": [
        {
          "output_type": "display_data",
          "data": {
            "image/png": "[encoded data removed]",
            "text/plain": [
              "<Figure size 720x720 with 1 Axes>"
            ]
          },
          "metadata": {
            "tags": [],
            "needs_background": "light"
          }
        }
      ]
    },
    {
      "cell_type": "code",
      "metadata": {
        "id": "DElv81xcAlta"
      },
      "source": [
        "def print_class_report(predictions, alg_name):\r\n",
        "    # print some title\r\n",
        "    print('Classification Report for {0}:'.format(alg_name))\r\n",
        "    # print class report metrics for each target \r\n",
        "    print(classification_report(predictions, \r\n",
        "            test_class_set, \r\n",
        "            target_names = dx))"
      ],
      "execution_count": null,
      "outputs": []
    },
    {
      "cell_type": "code",
      "metadata": {
        "id": "WU_aL2VQAnbb",
        "colab": {
          "base_uri": "https://localhost:8080/"
        },
        "outputId": "45fd377f-f3a6-4913-fdba-a9e66b34a302"
      },
      "source": [
        "class_report = print_class_report(rf_predictions, 'Random Forest')"
      ],
      "execution_count": null,
      "outputs": [
        {
          "output_type": "stream",
          "text": [
            "Classification Report for Random Forest:\n",
            "              precision    recall  f1-score   support\n",
            "\n",
            "      Benign       0.99      0.96      0.97        73\n",
            "   Malignant       0.93      0.98      0.95        41\n",
            "\n",
            "    accuracy                           0.96       114\n",
            "   macro avg       0.96      0.97      0.96       114\n",
            "weighted avg       0.97      0.96      0.97       114\n",
            "\n"
          ],
          "name": "stdout"
        }
      ]
    },
    {
      "cell_type": "code",
      "metadata": {
        "colab": {
          "base_uri": "https://localhost:8080/",
          "height": 232
        },
        "id": "OHbIbAQayA8y",
        "outputId": "bf8fae53-7f91-45eb-8f8d-148765641761"
      },
      "source": [
        "# Import modules\r\n",
        "%matplotlib inline\r\n",
        "\r\n",
        "import time\r\n",
        "import random\r\n",
        "import numpy as np\r\n",
        "import pandas as pd\r\n",
        "import seaborn as sns\r\n",
        "import matplotlib.pyplot as plt\r\n",
        "from sklearn.metrics import roc_curve, auc\r\n",
        "from sklearn.metrics import confusion_matrix\r\n",
        "from sklearn.metrics import classification_report\r\n",
        "from sklearn.model_selection import KFold, cross_val_score\r\n",
        "from sklearn.model_selection import train_test_split, GridSearchCV\r\n",
        "from sklearn.ensemble import RandomForestClassifier \r\n",
        "from urllib.request import urlopen \r\n",
        "\r\n",
        "# read in data and look at it \r\n",
        "plt.style.use('ggplot')\r\n",
        "pd.set_option('display.max_columns', 500) \r\n",
        "\r\n",
        "breast_cancer = pd.read_csv('Wisconsin-bc-data.csv')\r\n",
        "\r\n",
        "names = ['id', 'diagnosis', 'radius_mean', \r\n",
        "         'texture_mean', 'perimeter_mean', 'area_mean', \r\n",
        "         'smoothness_mean', 'compactness_mean', \r\n",
        "         'concavity_mean','concave_points_mean', \r\n",
        "         'symmetry_mean', 'fractal_dimension_mean',\r\n",
        "         'radius_se', 'texture_se', 'perimeter_se', \r\n",
        "         'area_se', 'smoothness_se', 'compactness_se', \r\n",
        "         'concavity_se', 'concave_points_se', \r\n",
        "         'symmetry_se', 'fractal_dimension_se', \r\n",
        "         'radius_worst', 'texture_worst', \r\n",
        "         'perimeter_worst', 'area_worst', \r\n",
        "         'smoothness_worst', 'compactness_worst', \r\n",
        "         'concavity_worst', 'concave_points_worst', \r\n",
        "         'symmetry_worst', 'fractal_dimension_worst'] \r\n",
        "\r\n",
        "dx = ['Benign', 'Malignant']\r\n",
        "breast_cancer.head()"
      ],
      "execution_count": null,
      "outputs": [
        {
          "output_type": "execute_result",
          "data": {
            "text/html": [
              "<div>\n",
              "<style scoped>\n",
              "    .dataframe tbody tr th:only-of-type {\n",
              "        vertical-align: middle;\n",
              "    }\n",
              "\n",
              "    .dataframe tbody tr th {\n",
              "        vertical-align: top;\n",
              "    }\n",
              "\n",
              "    .dataframe thead th {\n",
              "        text-align: right;\n",
              "    }\n",
              "</style>\n",
              "<table border=\"1\" class=\"dataframe\">\n",
              "  <thead>\n",
              "    <tr style=\"text-align: right;\">\n",
              "      <th></th>\n",
              "      <th>id</th>\n",
              "      <th>diagnosis</th>\n",
              "      <th>radius_mean</th>\n",
              "      <th>texture_mean</th>\n",
              "      <th>perimeter_mean</th>\n",
              "      <th>area_mean</th>\n",
              "      <th>smoothness_mean</th>\n",
              "      <th>compactness_mean</th>\n",
              "      <th>concavity_mean</th>\n",
              "      <th>concave points_mean</th>\n",
              "      <th>symmetry_mean</th>\n",
              "      <th>fractal_dimension_mean</th>\n",
              "      <th>radius_se</th>\n",
              "      <th>texture_se</th>\n",
              "      <th>perimeter_se</th>\n",
              "      <th>area_se</th>\n",
              "      <th>smoothness_se</th>\n",
              "      <th>compactness_se</th>\n",
              "      <th>concavity_se</th>\n",
              "      <th>concave points_se</th>\n",
              "      <th>symmetry_se</th>\n",
              "      <th>fractal_dimension_se</th>\n",
              "      <th>radius_worst</th>\n",
              "      <th>texture_worst</th>\n",
              "      <th>perimeter_worst</th>\n",
              "      <th>area_worst</th>\n",
              "      <th>smoothness_worst</th>\n",
              "      <th>compactness_worst</th>\n",
              "      <th>concavity_worst</th>\n",
              "      <th>concave points_worst</th>\n",
              "      <th>symmetry_worst</th>\n",
              "      <th>fractal_dimension_worst</th>\n",
              "      <th>Unnamed: 32</th>\n",
              "    </tr>\n",
              "  </thead>\n",
              "  <tbody>\n",
              "    <tr>\n",
              "      <th>0</th>\n",
              "      <td>842302</td>\n",
              "      <td>M</td>\n",
              "      <td>17.99</td>\n",
              "      <td>10.38</td>\n",
              "      <td>122.80</td>\n",
              "      <td>1001.0</td>\n",
              "      <td>0.11840</td>\n",
              "      <td>0.27760</td>\n",
              "      <td>0.3001</td>\n",
              "      <td>0.14710</td>\n",
              "      <td>0.2419</td>\n",
              "      <td>0.07871</td>\n",
              "      <td>1.0950</td>\n",
              "      <td>0.9053</td>\n",
              "      <td>8.589</td>\n",
              "      <td>153.40</td>\n",
              "      <td>0.006399</td>\n",
              "      <td>0.04904</td>\n",
              "      <td>0.05373</td>\n",
              "      <td>0.01587</td>\n",
              "      <td>0.03003</td>\n",
              "      <td>0.006193</td>\n",
              "      <td>25.38</td>\n",
              "      <td>17.33</td>\n",
              "      <td>184.60</td>\n",
              "      <td>2019.0</td>\n",
              "      <td>0.1622</td>\n",
              "      <td>0.6656</td>\n",
              "      <td>0.7119</td>\n",
              "      <td>0.2654</td>\n",
              "      <td>0.4601</td>\n",
              "      <td>0.11890</td>\n",
              "      <td>NaN</td>\n",
              "    </tr>\n",
              "    <tr>\n",
              "      <th>1</th>\n",
              "      <td>842517</td>\n",
              "      <td>M</td>\n",
              "      <td>20.57</td>\n",
              "      <td>17.77</td>\n",
              "      <td>132.90</td>\n",
              "      <td>1326.0</td>\n",
              "      <td>0.08474</td>\n",
              "      <td>0.07864</td>\n",
              "      <td>0.0869</td>\n",
              "      <td>0.07017</td>\n",
              "      <td>0.1812</td>\n",
              "      <td>0.05667</td>\n",
              "      <td>0.5435</td>\n",
              "      <td>0.7339</td>\n",
              "      <td>3.398</td>\n",
              "      <td>74.08</td>\n",
              "      <td>0.005225</td>\n",
              "      <td>0.01308</td>\n",
              "      <td>0.01860</td>\n",
              "      <td>0.01340</td>\n",
              "      <td>0.01389</td>\n",
              "      <td>0.003532</td>\n",
              "      <td>24.99</td>\n",
              "      <td>23.41</td>\n",
              "      <td>158.80</td>\n",
              "      <td>1956.0</td>\n",
              "      <td>0.1238</td>\n",
              "      <td>0.1866</td>\n",
              "      <td>0.2416</td>\n",
              "      <td>0.1860</td>\n",
              "      <td>0.2750</td>\n",
              "      <td>0.08902</td>\n",
              "      <td>NaN</td>\n",
              "    </tr>\n",
              "    <tr>\n",
              "      <th>2</th>\n",
              "      <td>84300903</td>\n",
              "      <td>M</td>\n",
              "      <td>19.69</td>\n",
              "      <td>21.25</td>\n",
              "      <td>130.00</td>\n",
              "      <td>1203.0</td>\n",
              "      <td>0.10960</td>\n",
              "      <td>0.15990</td>\n",
              "      <td>0.1974</td>\n",
              "      <td>0.12790</td>\n",
              "      <td>0.2069</td>\n",
              "      <td>0.05999</td>\n",
              "      <td>0.7456</td>\n",
              "      <td>0.7869</td>\n",
              "      <td>4.585</td>\n",
              "      <td>94.03</td>\n",
              "      <td>0.006150</td>\n",
              "      <td>0.04006</td>\n",
              "      <td>0.03832</td>\n",
              "      <td>0.02058</td>\n",
              "      <td>0.02250</td>\n",
              "      <td>0.004571</td>\n",
              "      <td>23.57</td>\n",
              "      <td>25.53</td>\n",
              "      <td>152.50</td>\n",
              "      <td>1709.0</td>\n",
              "      <td>0.1444</td>\n",
              "      <td>0.4245</td>\n",
              "      <td>0.4504</td>\n",
              "      <td>0.2430</td>\n",
              "      <td>0.3613</td>\n",
              "      <td>0.08758</td>\n",
              "      <td>NaN</td>\n",
              "    </tr>\n",
              "    <tr>\n",
              "      <th>3</th>\n",
              "      <td>84348301</td>\n",
              "      <td>M</td>\n",
              "      <td>11.42</td>\n",
              "      <td>20.38</td>\n",
              "      <td>77.58</td>\n",
              "      <td>386.1</td>\n",
              "      <td>0.14250</td>\n",
              "      <td>0.28390</td>\n",
              "      <td>0.2414</td>\n",
              "      <td>0.10520</td>\n",
              "      <td>0.2597</td>\n",
              "      <td>0.09744</td>\n",
              "      <td>0.4956</td>\n",
              "      <td>1.1560</td>\n",
              "      <td>3.445</td>\n",
              "      <td>27.23</td>\n",
              "      <td>0.009110</td>\n",
              "      <td>0.07458</td>\n",
              "      <td>0.05661</td>\n",
              "      <td>0.01867</td>\n",
              "      <td>0.05963</td>\n",
              "      <td>0.009208</td>\n",
              "      <td>14.91</td>\n",
              "      <td>26.50</td>\n",
              "      <td>98.87</td>\n",
              "      <td>567.7</td>\n",
              "      <td>0.2098</td>\n",
              "      <td>0.8663</td>\n",
              "      <td>0.6869</td>\n",
              "      <td>0.2575</td>\n",
              "      <td>0.6638</td>\n",
              "      <td>0.17300</td>\n",
              "      <td>NaN</td>\n",
              "    </tr>\n",
              "    <tr>\n",
              "      <th>4</th>\n",
              "      <td>84358402</td>\n",
              "      <td>M</td>\n",
              "      <td>20.29</td>\n",
              "      <td>14.34</td>\n",
              "      <td>135.10</td>\n",
              "      <td>1297.0</td>\n",
              "      <td>0.10030</td>\n",
              "      <td>0.13280</td>\n",
              "      <td>0.1980</td>\n",
              "      <td>0.10430</td>\n",
              "      <td>0.1809</td>\n",
              "      <td>0.05883</td>\n",
              "      <td>0.7572</td>\n",
              "      <td>0.7813</td>\n",
              "      <td>5.438</td>\n",
              "      <td>94.44</td>\n",
              "      <td>0.011490</td>\n",
              "      <td>0.02461</td>\n",
              "      <td>0.05688</td>\n",
              "      <td>0.01885</td>\n",
              "      <td>0.01756</td>\n",
              "      <td>0.005115</td>\n",
              "      <td>22.54</td>\n",
              "      <td>16.67</td>\n",
              "      <td>152.20</td>\n",
              "      <td>1575.0</td>\n",
              "      <td>0.1374</td>\n",
              "      <td>0.2050</td>\n",
              "      <td>0.4000</td>\n",
              "      <td>0.1625</td>\n",
              "      <td>0.2364</td>\n",
              "      <td>0.07678</td>\n",
              "      <td>NaN</td>\n",
              "    </tr>\n",
              "  </tbody>\n",
              "</table>\n",
              "</div>"
            ],
            "text/plain": [
              "         id diagnosis  radius_mean  texture_mean  perimeter_mean  area_mean  \\\n",
              "0    842302         M        17.99         10.38          122.80     1001.0   \n",
              "1    842517         M        20.57         17.77          132.90     1326.0   \n",
              "2  84300903         M        19.69         21.25          130.00     1203.0   \n",
              "3  84348301         M        11.42         20.38           77.58      386.1   \n",
              "4  84358402         M        20.29         14.34          135.10     1297.0   \n",
              "\n",
              "   smoothness_mean  compactness_mean  concavity_mean  concave points_mean  \\\n",
              "0          0.11840           0.27760          0.3001              0.14710   \n",
              "1          0.08474           0.07864          0.0869              0.07017   \n",
              "2          0.10960           0.15990          0.1974              0.12790   \n",
              "3          0.14250           0.28390          0.2414              0.10520   \n",
              "4          0.10030           0.13280          0.1980              0.10430   \n",
              "\n",
              "   symmetry_mean  fractal_dimension_mean  radius_se  texture_se  perimeter_se  \\\n",
              "0         0.2419                 0.07871     1.0950      0.9053         8.589   \n",
              "1         0.1812                 0.05667     0.5435      0.7339         3.398   \n",
              "2         0.2069                 0.05999     0.7456      0.7869         4.585   \n",
              "3         0.2597                 0.09744     0.4956      1.1560         3.445   \n",
              "4         0.1809                 0.05883     0.7572      0.7813         5.438   \n",
              "\n",
              "   area_se  smoothness_se  compactness_se  concavity_se  concave points_se  \\\n",
              "0   153.40       0.006399         0.04904       0.05373            0.01587   \n",
              "1    74.08       0.005225         0.01308       0.01860            0.01340   \n",
              "2    94.03       0.006150         0.04006       0.03832            0.02058   \n",
              "3    27.23       0.009110         0.07458       0.05661            0.01867   \n",
              "4    94.44       0.011490         0.02461       0.05688            0.01885   \n",
              "\n",
              "   symmetry_se  fractal_dimension_se  radius_worst  texture_worst  \\\n",
              "0      0.03003              0.006193         25.38          17.33   \n",
              "1      0.01389              0.003532         24.99          23.41   \n",
              "2      0.02250              0.004571         23.57          25.53   \n",
              "3      0.05963              0.009208         14.91          26.50   \n",
              "4      0.01756              0.005115         22.54          16.67   \n",
              "\n",
              "   perimeter_worst  area_worst  smoothness_worst  compactness_worst  \\\n",
              "0           184.60      2019.0            0.1622             0.6656   \n",
              "1           158.80      1956.0            0.1238             0.1866   \n",
              "2           152.50      1709.0            0.1444             0.4245   \n",
              "3            98.87       567.7            0.2098             0.8663   \n",
              "4           152.20      1575.0            0.1374             0.2050   \n",
              "\n",
              "   concavity_worst  concave points_worst  symmetry_worst  \\\n",
              "0           0.7119                0.2654          0.4601   \n",
              "1           0.2416                0.1860          0.2750   \n",
              "2           0.4504                0.2430          0.3613   \n",
              "3           0.6869                0.2575          0.6638   \n",
              "4           0.4000                0.1625          0.2364   \n",
              "\n",
              "   fractal_dimension_worst  Unnamed: 32  \n",
              "0                  0.11890          NaN  \n",
              "1                  0.08902          NaN  \n",
              "2                  0.08758          NaN  \n",
              "3                  0.17300          NaN  \n",
              "4                  0.07678          NaN  "
            ]
          },
          "metadata": {
            "tags": []
          },
          "execution_count": 63
        }
      ]
    },
    {
      "cell_type": "code",
      "metadata": {
        "colab": {
          "base_uri": "https://localhost:8080/",
          "height": 431
        },
        "id": "OJQDXQX2yCD4",
        "outputId": "c804b395-b5a6-469d-c559-30bf0e5a3d31"
      },
      "source": [
        "# Setting 'id_number' as our index\r\n",
        "breast_cancer.set_index(['id'], inplace = True) \r\n",
        "\r\n",
        "# Converted to binary to help later on with models and plots\r\n",
        "breast_cancer['diagnosis'] = breast_cancer['diagnosis'].map({'M':1, 'B':0})\r\n",
        "\r\n",
        "# check mapping worked \r\n",
        "mapping = breast_cancer[['diagnosis']]\r\n",
        "mapping"
      ],
      "execution_count": null,
      "outputs": [
        {
          "output_type": "execute_result",
          "data": {
            "text/html": [
              "<div>\n",
              "<style scoped>\n",
              "    .dataframe tbody tr th:only-of-type {\n",
              "        vertical-align: middle;\n",
              "    }\n",
              "\n",
              "    .dataframe tbody tr th {\n",
              "        vertical-align: top;\n",
              "    }\n",
              "\n",
              "    .dataframe thead th {\n",
              "        text-align: right;\n",
              "    }\n",
              "</style>\n",
              "<table border=\"1\" class=\"dataframe\">\n",
              "  <thead>\n",
              "    <tr style=\"text-align: right;\">\n",
              "      <th></th>\n",
              "      <th>diagnosis</th>\n",
              "    </tr>\n",
              "    <tr>\n",
              "      <th>id</th>\n",
              "      <th></th>\n",
              "    </tr>\n",
              "  </thead>\n",
              "  <tbody>\n",
              "    <tr>\n",
              "      <th>842302</th>\n",
              "      <td>1</td>\n",
              "    </tr>\n",
              "    <tr>\n",
              "      <th>842517</th>\n",
              "      <td>1</td>\n",
              "    </tr>\n",
              "    <tr>\n",
              "      <th>84300903</th>\n",
              "      <td>1</td>\n",
              "    </tr>\n",
              "    <tr>\n",
              "      <th>84348301</th>\n",
              "      <td>1</td>\n",
              "    </tr>\n",
              "    <tr>\n",
              "      <th>84358402</th>\n",
              "      <td>1</td>\n",
              "    </tr>\n",
              "    <tr>\n",
              "      <th>...</th>\n",
              "      <td>...</td>\n",
              "    </tr>\n",
              "    <tr>\n",
              "      <th>926424</th>\n",
              "      <td>1</td>\n",
              "    </tr>\n",
              "    <tr>\n",
              "      <th>926682</th>\n",
              "      <td>1</td>\n",
              "    </tr>\n",
              "    <tr>\n",
              "      <th>926954</th>\n",
              "      <td>1</td>\n",
              "    </tr>\n",
              "    <tr>\n",
              "      <th>927241</th>\n",
              "      <td>1</td>\n",
              "    </tr>\n",
              "    <tr>\n",
              "      <th>92751</th>\n",
              "      <td>0</td>\n",
              "    </tr>\n",
              "  </tbody>\n",
              "</table>\n",
              "<p>569 rows × 1 columns</p>\n",
              "</div>"
            ],
            "text/plain": [
              "          diagnosis\n",
              "id                 \n",
              "842302            1\n",
              "842517            1\n",
              "84300903          1\n",
              "84348301          1\n",
              "84358402          1\n",
              "...             ...\n",
              "926424            1\n",
              "926682            1\n",
              "926954            1\n",
              "927241            1\n",
              "92751             0\n",
              "\n",
              "[569 rows x 1 columns]"
            ]
          },
          "metadata": {
            "tags": []
          },
          "execution_count": 64
        }
      ]
    },
    {
      "cell_type": "code",
      "metadata": {
        "colab": {
          "base_uri": "https://localhost:8080/"
        },
        "id": "VOhm3mWEy6wQ",
        "outputId": "7febc635-bb3a-4d61-b5dc-7f5464d3a236"
      },
      "source": [
        "# check check number of null values in each field\r\n",
        "breast_cancer.apply(lambda x: x.isnull().sum())\r\n",
        "\r\n",
        "# drop the field we dont need\r\n",
        "breast_cancer = breast_cancer.drop(columns=['Unnamed: 32'])\r\n",
        "\r\n",
        "# double check the field is gone\r\n",
        "breast_cancer.apply(lambda x: x.isnull().sum())"
      ],
      "execution_count": null,
      "outputs": [
        {
          "output_type": "execute_result",
          "data": {
            "text/plain": [
              "diagnosis                  0\n",
              "radius_mean                0\n",
              "texture_mean               0\n",
              "perimeter_mean             0\n",
              "area_mean                  0\n",
              "smoothness_mean            0\n",
              "compactness_mean           0\n",
              "concavity_mean             0\n",
              "concave points_mean        0\n",
              "symmetry_mean              0\n",
              "fractal_dimension_mean     0\n",
              "radius_se                  0\n",
              "texture_se                 0\n",
              "perimeter_se               0\n",
              "area_se                    0\n",
              "smoothness_se              0\n",
              "compactness_se             0\n",
              "concavity_se               0\n",
              "concave points_se          0\n",
              "symmetry_se                0\n",
              "fractal_dimension_se       0\n",
              "radius_worst               0\n",
              "texture_worst              0\n",
              "perimeter_worst            0\n",
              "area_worst                 0\n",
              "smoothness_worst           0\n",
              "compactness_worst          0\n",
              "concavity_worst            0\n",
              "concave points_worst       0\n",
              "symmetry_worst             0\n",
              "fractal_dimension_worst    0\n",
              "dtype: int64"
            ]
          },
          "metadata": {
            "tags": []
          },
          "execution_count": 65
        }
      ]
    },
    {
      "cell_type": "code",
      "metadata": {
        "id": "vJrFRyYGzLtU",
        "colab": {
          "base_uri": "https://localhost:8080/"
        },
        "outputId": "d8517a6b-c436-4960-a28d-d58f8b3467c7"
      },
      "source": [
        "breast_cancer.info()"
      ],
      "execution_count": null,
      "outputs": [
        {
          "output_type": "stream",
          "text": [
            "<class 'pandas.core.frame.DataFrame'>\n",
            "Int64Index: 569 entries, 842302 to 92751\n",
            "Data columns (total 31 columns):\n",
            " #   Column                   Non-Null Count  Dtype  \n",
            "---  ------                   --------------  -----  \n",
            " 0   diagnosis                569 non-null    int64  \n",
            " 1   radius_mean              569 non-null    float64\n",
            " 2   texture_mean             569 non-null    float64\n",
            " 3   perimeter_mean           569 non-null    float64\n",
            " 4   area_mean                569 non-null    float64\n",
            " 5   smoothness_mean          569 non-null    float64\n",
            " 6   compactness_mean         569 non-null    float64\n",
            " 7   concavity_mean           569 non-null    float64\n",
            " 8   concave points_mean      569 non-null    float64\n",
            " 9   symmetry_mean            569 non-null    float64\n",
            " 10  fractal_dimension_mean   569 non-null    float64\n",
            " 11  radius_se                569 non-null    float64\n",
            " 12  texture_se               569 non-null    float64\n",
            " 13  perimeter_se             569 non-null    float64\n",
            " 14  area_se                  569 non-null    float64\n",
            " 15  smoothness_se            569 non-null    float64\n",
            " 16  compactness_se           569 non-null    float64\n",
            " 17  concavity_se             569 non-null    float64\n",
            " 18  concave points_se        569 non-null    float64\n",
            " 19  symmetry_se              569 non-null    float64\n",
            " 20  fractal_dimension_se     569 non-null    float64\n",
            " 21  radius_worst             569 non-null    float64\n",
            " 22  texture_worst            569 non-null    float64\n",
            " 23  perimeter_worst          569 non-null    float64\n",
            " 24  area_worst               569 non-null    float64\n",
            " 25  smoothness_worst         569 non-null    float64\n",
            " 26  compactness_worst        569 non-null    float64\n",
            " 27  concavity_worst          569 non-null    float64\n",
            " 28  concave points_worst     569 non-null    float64\n",
            " 29  symmetry_worst           569 non-null    float64\n",
            " 30  fractal_dimension_worst  569 non-null    float64\n",
            "dtypes: float64(30), int64(1)\n",
            "memory usage: 142.2 KB\n"
          ],
          "name": "stdout"
        }
      ]
    },
    {
      "cell_type": "code",
      "metadata": {
        "id": "bYXKrUZPzB1d"
      },
      "source": [
        "from sklearn.model_selection import train_test_split\r\n",
        "\r\n",
        "feature_space = breast_cancer.iloc[:, breast_cancer.columns != 'diagnosis']\r\n",
        "feature_class = breast_cancer.iloc[:, breast_cancer.columns == 'diagnosis']\r\n",
        "\r\n",
        "X_train, X_test, y_train, y_test = train_test_split(feature_space, feature_class, test_size=0.20, random_state = 42, stratify=feature_class)"
      ],
      "execution_count": null,
      "outputs": []
    },
    {
      "cell_type": "code",
      "metadata": {
        "id": "PdZbqrqK0v6_"
      },
      "source": [
        "import numpy as np\r\n",
        "from sklearn.preprocessing import StandardScaler\r\n",
        "\r\n",
        "# instantiate scaler\r\n",
        "scaler = StandardScaler()\r\n",
        "\r\n",
        "# scale the train and test data\r\n",
        "X_train_scaled = scaler.fit_transform(X_train)\r\n",
        "X_test_scaled = scaler.transform(X_test)\r\n",
        "\r\n",
        "y_train = np.array(y_train).ravel()"
      ],
      "execution_count": null,
      "outputs": []
    },
    {
      "cell_type": "code",
      "metadata": {
        "id": "1-zfyT9O1QHy"
      },
      "source": [
        "rf_pca_classifier = RandomForestClassifier(random_state=42, n_estimators=10)"
      ],
      "execution_count": null,
      "outputs": []
    },
    {
      "cell_type": "code",
      "metadata": {
        "id": "g2Vfom3L13sy",
        "colab": {
          "base_uri": "https://localhost:8080/",
          "height": 285
        },
        "outputId": "711f7659-8d9e-45b3-cf45-cc40b66dd465"
      },
      "source": [
        "import matplotlib.pyplot as plt\r\n",
        "import seaborn as sb\r\n",
        "\r\n",
        "from sklearn.decomposition import PCA \r\n",
        "\r\n",
        "# instantiate PCA for testing number of components, I will analyze explained_variance\r\n",
        "component_test = PCA(n_components=30)\r\n",
        "component_test.fit(X_train_scaled)\r\n",
        "\r\n",
        "sb.set(style='whitegrid')\r\n",
        "plt.xlabel('Number of components')\r\n",
        "plt.ylabel('Cumulative Explained Variance')\r\n",
        "plt.plot(np.cumsum(component_test.explained_variance_ratio_))\r\n",
        "plt.axvline(linewidth=4, color='r', linestyle = '--', x=14, ymin=0, ymax=1)\r\n",
        "plt.show()"
      ],
      "execution_count": null,
      "outputs": [
        {
          "output_type": "display_data",
          "data": {
            "image/png": "[encoded data removed]",
            "text/plain": [
              "<Figure size 432x288 with 1 Axes>"
            ]
          },
          "metadata": {
            "tags": []
          }
        }
      ]
    },
    {
      "cell_type": "markdown",
      "metadata": {
        "id": "nsHhOjxi_LDP"
      },
      "source": [
        "I will use the PCA to reduce our feature space into 14 components with a variance over 95%"
      ]
    },
    {
      "cell_type": "code",
      "metadata": {
        "id": "ruX7634_5q5p"
      },
      "source": [
        "# initialize n_components\r\n",
        "pca = PCA(n_components=14)\r\n",
        "\r\n",
        "# fit to our scaled training data\r\n",
        "pca.fit(X_train_scaled)\r\n",
        "\r\n",
        "# use PCA fit to transform X_train and X_test data \r\n",
        "X_train_scaled_pca = pca.transform(X_train_scaled)\r\n",
        "X_test_scaled_pca = pca.transform(X_test_scaled)"
      ],
      "execution_count": null,
      "outputs": []
    },
    {
      "cell_type": "code",
      "metadata": {
        "id": "qXiACO_c6hAR"
      },
      "source": [
        "# just so I can view how much variance features carry\r\n",
        "evr = component_test.explained_variance_ratio_\r\n",
        "cvr = np.cumsum(component_test.explained_variance_ratio_)\r\n",
        "pca_df = pd.DataFrame()\r\n",
        "pca_df['Cumulative Variance Ratio'] = cvr\r\n",
        "pca_df['Explained Variance Ratio'] = evr\r\n",
        "pca_df"
      ],
      "execution_count": null,
      "outputs": []
    },
    {
      "cell_type": "code",
      "metadata": {
        "id": "-w-ATv9xe_73"
      },
      "source": [
        "# get the indices for the pca\r\n",
        "pca_dims = []\r\n",
        "for x in range(0, len(pca_df)):\r\n",
        "    pca_dims.append('PCA Component {}'.format(x))\r\n",
        "\r\n",
        "pca_test_df = pd.DataFrame(component_test.components_, columns=names_index, index=pca_dims)\r\n",
        "pca_test_df.head()"
      ],
      "execution_count": null,
      "outputs": []
    },
    {
      "cell_type": "code",
      "metadata": {
        "id": "SpN_lYpfmoEp",
        "colab": {
          "base_uri": "https://localhost:8080/"
        },
        "outputId": "b7c47e55-dc8f-4c3c-8f25-d97f35a9bc68"
      },
      "source": [
        "np.random.seed(42)\r\n",
        "start = time.time()\r\n",
        "\r\n",
        "# give to GridSearchCV\r\n",
        "param_dist = {'max_depth': [2, 3, 9, 10, 12, 13, 15],\r\n",
        "              'bootstrap': [True, False],\r\n",
        "              'max_features': ['auto', 'sqrt', 'log2', None],\r\n",
        "              'criterion': ['gini', 'entropy'],\r\n",
        "              'min_samples_split': [6,8,10,12,16,18,20],\r\n",
        "              'min_samples_leaf':[3,4,5,6,7,9]}\r\n",
        "\r\n",
        "# set up the GridSearch\r\n",
        "cv_rf = GridSearchCV(rf_pca_classifier, cv = 5,\r\n",
        "                     param_grid=param_dist, \r\n",
        "                     n_jobs = 5)\r\n",
        "\r\n",
        "# fit the GridSearch\r\n",
        "cv_rf.fit(X_train_scaled_pca, y_train)\r\n",
        "print('Best Parameters using grid search: \\n', cv_rf.best_params_)\r\n",
        "\r\n",
        "\r\n",
        "end = time.time()\r\n",
        "print('Time taken in grid search: {0: .2f}'.format(end - start))"
      ],
      "execution_count": null,
      "outputs": [
        {
          "output_type": "stream",
          "text": [
            "Best Parameters using grid search: \n",
            " {'bootstrap': True, 'criterion': 'entropy', 'max_depth': 9, 'max_features': None, 'min_samples_leaf': 3, 'min_samples_split': 6}\n",
            "Time taken in grid search:  362.57\n"
          ],
          "name": "stdout"
        }
      ]
    },
    {
      "cell_type": "code",
      "metadata": {
        "id": "2SyYiVWNqrhC",
        "colab": {
          "base_uri": "https://localhost:8080/"
        },
        "outputId": "ce5c515f-cd82-4d51-c496-e1a1ee0318fb"
      },
      "source": [
        "# I set bootstrap = true so I can do OOB\r\n",
        "rf_pca_classifier.set_params(bootstrap=True,criterion='gini', max_depth=9,\r\n",
        "                             max_features='auto', min_samples_leaf=3, min_samples_split=6)\r\n"
      ],
      "execution_count": null,
      "outputs": [
        {
          "output_type": "execute_result",
          "data": {
            "text/plain": [
              "RandomForestClassifier(bootstrap=True, ccp_alpha=0.0, class_weight=None,\n",
              "                       criterion='gini', max_depth=9, max_features='auto',\n",
              "                       max_leaf_nodes=None, max_samples=None,\n",
              "                       min_impurity_decrease=0.0, min_impurity_split=None,\n",
              "                       min_samples_leaf=3, min_samples_split=6,\n",
              "                       min_weight_fraction_leaf=0.0, n_estimators=10,\n",
              "                       n_jobs=None, oob_score=False, random_state=42, verbose=0,\n",
              "                       warm_start=False)"
            ]
          },
          "metadata": {
            "tags": []
          },
          "execution_count": 73
        }
      ]
    },
    {
      "cell_type": "code",
      "metadata": {
        "id": "5WDC9K3qyDBC"
      },
      "source": [
        "rf_pca_classifier.set_params(warm_start=True, \r\n",
        "                  oob_score=True)\r\n",
        "\r\n",
        "min_estimators = 15\r\n",
        "max_estimators = 1000\r\n",
        "\r\n",
        "error_rate = {}\r\n",
        "\r\n",
        "for i in range(min_estimators, max_estimators + 1):\r\n",
        "    rf_pca_classifier.set_params(n_estimators=i)\r\n",
        "    rf_pca_classifier.fit(X_train_scaled_pca, y_train)\r\n",
        "\r\n",
        "    oob_error = 1 - rf_pca_classifier.oob_score_\r\n",
        "    error_rate[i] = oob_error"
      ],
      "execution_count": null,
      "outputs": []
    },
    {
      "cell_type": "code",
      "metadata": {
        "id": "o0vDDCRnyiZ7",
        "colab": {
          "base_uri": "https://localhost:8080/",
          "height": 659
        },
        "outputId": "e0a9cfef-c55c-418c-b760-6f95f19b2eae"
      },
      "source": [
        "fig, ax = plt.subplots(figsize=(10, 10))\r\n",
        "\r\n",
        "ax.set_facecolor('#fafafa')\r\n",
        "\r\n",
        "oob_series.plot(kind='line',\r\n",
        "                color = 'blue')\r\n",
        "plt.axhline(0.055, \r\n",
        "            color='#875FDB',\r\n",
        "           linestyle='--')\r\n",
        "plt.axhline(0.05, \r\n",
        "            color='#875FDB',\r\n",
        "           linestyle='--')\r\n",
        "plt.xlabel('n_estimators')\r\n",
        "plt.ylabel('OOB Error Rate')\r\n",
        "plt.title('OOB Error Rate Across various Forest sizes \\n(From 15 to 1000 trees)')"
      ],
      "execution_count": null,
      "outputs": [
        {
          "output_type": "execute_result",
          "data": {
            "text/plain": [
              "Text(0.5, 1.0, 'OOB Error Rate Across various Forest sizes \\n(From 15 to 1000 trees)')"
            ]
          },
          "metadata": {
            "tags": []
          },
          "execution_count": 49
        },
        {
          "output_type": "display_data",
          "data": {
            "image/png": "[encoded data removed]",
            "text/plain": [
              "<Figure size 720x720 with 1 Axes>"
            ]
          },
          "metadata": {
            "tags": []
          }
        }
      ]
    },
    {
      "cell_type": "code",
      "metadata": {
        "colab": {
          "base_uri": "https://localhost:8080/"
        },
        "id": "l-W9GIR5055b",
        "outputId": "bf18907a-610c-43e1-be81-010ac0a75b0b"
      },
      "source": [
        "rf_pca_classifier.set_params(n_estimators=185,\r\n",
        "                  bootstrap = False,\r\n",
        "                  warm_start=False, \r\n",
        "                  oob_score=False)"
      ],
      "execution_count": null,
      "outputs": [
        {
          "output_type": "execute_result",
          "data": {
            "text/plain": [
              "RandomForestClassifier(bootstrap=False, ccp_alpha=0.0, class_weight=None,\n",
              "                       criterion='gini', max_depth=9, max_features='auto',\n",
              "                       max_leaf_nodes=None, max_samples=None,\n",
              "                       min_impurity_decrease=0.0, min_impurity_split=None,\n",
              "                       min_samples_leaf=3, min_samples_split=6,\n",
              "                       min_weight_fraction_leaf=0.0, n_estimators=185,\n",
              "                       n_jobs=None, oob_score=False, random_state=42, verbose=0,\n",
              "                       warm_start=False)"
            ]
          },
          "metadata": {
            "tags": []
          },
          "execution_count": 74
        }
      ]
    },
    {
      "cell_type": "code",
      "metadata": {
        "colab": {
          "base_uri": "https://localhost:8080/"
        },
        "id": "OotSQSCX0_B3",
        "outputId": "c7b03faa-e083-4186-aeca-a10f67fc6aa9"
      },
      "source": [
        "rf_pca_classifier.fit(X_train_scaled_pca, y_train)"
      ],
      "execution_count": null,
      "outputs": [
        {
          "output_type": "execute_result",
          "data": {
            "text/plain": [
              "RandomForestClassifier(bootstrap=False, ccp_alpha=0.0, class_weight=None,\n",
              "                       criterion='gini', max_depth=9, max_features='auto',\n",
              "                       max_leaf_nodes=None, max_samples=None,\n",
              "                       min_impurity_decrease=0.0, min_impurity_split=None,\n",
              "                       min_samples_leaf=3, min_samples_split=6,\n",
              "                       min_weight_fraction_leaf=0.0, n_estimators=185,\n",
              "                       n_jobs=None, oob_score=False, random_state=42, verbose=0,\n",
              "                       warm_start=False)"
            ]
          },
          "metadata": {
            "tags": []
          },
          "execution_count": 75
        }
      ]
    },
    {
      "cell_type": "code",
      "metadata": {
        "colab": {
          "base_uri": "https://localhost:8080/"
        },
        "id": "u8LNM8Sx1QRe",
        "outputId": "efa039b9-1b4d-412d-e92c-ac8e435e6387"
      },
      "source": [
        "cross_val_metrics(rf_pca_classifier, \r\n",
        "                  X_train_scaled_pca, \r\n",
        "                  y_train, \r\n",
        "                  'rf',\r\n",
        "                  print_results = True)"
      ],
      "execution_count": null,
      "outputs": [
        {
          "output_type": "stream",
          "text": [
            "Time elapsed to do Cross Validation: 2.63 seconds.\n",
            "Cross validation run 0:  0.935\n",
            "Cross validation run 1:  0.935\n",
            "Cross validation run 2:  0.978\n",
            "Cross validation run 3:  1.000\n",
            "Cross validation run 4:  0.935\n",
            "Cross validation run 5:  0.911\n",
            "Cross validation run 6:  0.933\n",
            "Cross validation run 7:  0.978\n",
            "Cross validation run 8:  0.956\n",
            "Cross validation run 9:  0.933\n",
            "Accuracy:  0.949 (+/-  0.013)\n"
          ],
          "name": "stdout"
        }
      ]
    },
    {
      "cell_type": "code",
      "metadata": {
        "id": "zvDIv2xJ3kEb"
      },
      "source": [
        "pca_rf_predictions = rf_pca_classifier.predict(X_test_scaled_pca)"
      ],
      "execution_count": null,
      "outputs": []
    },
    {
      "cell_type": "code",
      "metadata": {
        "colab": {
          "base_uri": "https://localhost:8080/",
          "height": 301
        },
        "id": "1yO286eD3ybd",
        "outputId": "27b6edc5-36eb-494d-f157-3707ef4e52db"
      },
      "source": [
        "conf_mat = create_conf_mat(test_class_set, pca_rf_predictions)\r\n",
        "sns.heatmap(conf_mat, annot=True, fmt='d', cbar=False)\r\n",
        "plt.xlabel('Predicted Values')\r\n",
        "plt.ylabel('Actual Values')\r\n",
        "plt.title('Actual vs. Predicted Confusion Matrix')\r\n",
        "plt.show()"
      ],
      "execution_count": null,
      "outputs": [
        {
          "output_type": "display_data",
          "data": {
            "image/png": "[encoded data removed]",
            "text/plain": [
              "<Figure size 432x288 with 1 Axes>"
            ]
          },
          "metadata": {
            "tags": []
          }
        }
      ]
    },
    {
      "cell_type": "code",
      "metadata": {
        "colab": {
          "base_uri": "https://localhost:8080/"
        },
        "id": "e8y6wezT321S",
        "outputId": "14a6a05c-a4e3-46fd-bd07-cb4a387c9c29"
      },
      "source": [
        "accuracy_rf = rf_pca_classifier.score(X_test_scaled_pca, y_test)\r\n",
        "\r\n",
        "print(\"Here is our mean accuracy on the test set:\\n {0:.3f}\"\\\r\n",
        "      .format(accuracy_rf))"
      ],
      "execution_count": null,
      "outputs": [
        {
          "output_type": "stream",
          "text": [
            "Here is our mean accuracy on the test set:\n",
            " 0.965\n"
          ],
          "name": "stdout"
        }
      ]
    },
    {
      "cell_type": "code",
      "metadata": {
        "colab": {
          "base_uri": "https://localhost:8080/"
        },
        "id": "9elq7knI4DdY",
        "outputId": "0661c7b3-331a-4722-d52c-21cf5b2d5855"
      },
      "source": [
        "# Here we calculate the test error rate!\r\n",
        "test_error_rate_rf = 1 - accuracy_rf\r\n",
        "print(\"The test error rate for our model is:\\n {0: .4f}\"\\\r\n",
        "      .format(test_error_rate_rf))"
      ],
      "execution_count": null,
      "outputs": [
        {
          "output_type": "stream",
          "text": [
            "The test error rate for our model is:\n",
            "  0.0351\n"
          ],
          "name": "stdout"
        }
      ]
    },
    {
      "cell_type": "code",
      "metadata": {
        "colab": {
          "base_uri": "https://localhost:8080/"
        },
        "id": "R2JBO6qp6KfC",
        "outputId": "2524c85b-0e0d-4884-f536-c67e09c12f4d"
      },
      "source": [
        "# predict_proba returns two arrays that represent the predicted_prob of negative class and positive class respectively.\r\n",
        "# I just want to take the positive classes in this instance\r\n",
        "\r\n",
        "predictions_prob_pca_rf = rf_pca_classifier.predict_proba(X_test_scaled_pca)[:, 1]\r\n",
        "\r\n",
        "# use roc_curve to produce \r\n",
        "fals_pos_r2, true_pos_r2, _ = roc_curve(y_test,\r\n",
        "                          predictions_prob_pca_rf,\r\n",
        "                          pos_label = 1)\r\n",
        "\r\n",
        "auc_pca_rf = auc(fals_pos_r2, true_pos_r2)\r\n",
        "\r\n",
        "print(auc_pca_rf)"
      ],
      "execution_count": null,
      "outputs": [
        {
          "output_type": "stream",
          "text": [
            "0.9900793650793651\n"
          ],
          "name": "stdout"
        }
      ]
    },
    {
      "cell_type": "code",
      "metadata": {
        "colab": {
          "base_uri": "https://localhost:8080/",
          "height": 627
        },
        "id": "YLMlpSh67tCr",
        "outputId": "f622de3e-2ab5-4984-f2d9-37381acee8ff"
      },
      "source": [
        "plot_roc_curve(fals_pos_r2, true_pos_r2, auc_pca_rf, 'rf',\r\n",
        "               xlim=(-0.01, 1.05), \r\n",
        "               ylim=(0.001, 1.05))"
      ],
      "execution_count": null,
      "outputs": [
        {
          "output_type": "display_data",
          "data": {
            "image/png": "[encoded data removed]",
            "text/plain": [
              "<Figure size 720x720 with 1 Axes>"
            ]
          },
          "metadata": {
            "tags": []
          }
        }
      ]
    },
    {
      "cell_type": "code",
      "metadata": {
        "colab": {
          "base_uri": "https://localhost:8080/",
          "height": 627
        },
        "id": "RxnGFjex72IA",
        "outputId": "479ccfba-796e-48b7-b163-f59e89135a1d"
      },
      "source": [
        "plot_roc_curve(fals_pos_r2, true_pos_r2, auc_pca_rf, 'rf',\r\n",
        "               xlim=(-0.01, 0.2), \r\n",
        "               ylim=(0.85, 1.01))"
      ],
      "execution_count": null,
      "outputs": [
        {
          "output_type": "display_data",
          "data": {
            "image/png": "[encoded data removed]",
            "text/plain": [
              "<Figure size 720x720 with 1 Axes>"
            ]
          },
          "metadata": {
            "tags": []
          }
        }
      ]
    },
    {
      "cell_type": "code",
      "metadata": {
        "colab": {
          "base_uri": "https://localhost:8080/"
        },
        "id": "D6sy5rv45EnB",
        "outputId": "ba3c9aff-7532-4188-db01-9aa94fad6a61"
      },
      "source": [
        "pca_rf_report = print_class_report(pca_rf_predictions, 'PCA reduced Random Forest')"
      ],
      "execution_count": null,
      "outputs": [
        {
          "output_type": "stream",
          "text": [
            "Classification Report for PCA reduced Random Forest:\n",
            "              precision    recall  f1-score   support\n",
            "\n",
            "      Benign       0.99      0.96      0.97        74\n",
            "   Malignant       0.93      0.97      0.95        40\n",
            "\n",
            "    accuracy                           0.96       114\n",
            "   macro avg       0.96      0.97      0.96       114\n",
            "weighted avg       0.97      0.96      0.97       114\n",
            "\n"
          ],
          "name": "stdout"
        }
      ]
    }
  ]
}